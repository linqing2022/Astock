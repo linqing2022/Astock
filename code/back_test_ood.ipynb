{
 "cells": [
  {
   "cell_type": "code",
   "execution_count": null,
   "id": "53e4f4b2",
   "metadata": {
    "ExecuteTime": {
     "end_time": "2022-02-08T02:59:04.226593Z",
     "start_time": "2022-02-08T02:59:04.219592Z"
    }
   },
   "outputs": [],
   "source": [
    "# @title Setup & Config\n",
    "import transformers\n",
    "from transformers import BertModel, BertTokenizer, AdamW, get_linear_schedule_with_warmup\n",
    "import torch\n",
    "import unicodedata\n",
    "import numpy as np\n",
    "import pandas as pd\n",
    "import seaborn as sns\n",
    "from pylab import rcParams\n",
    "import matplotlib.pyplot as plt\n",
    "from matplotlib import rc\n",
    "from sklearn.model_selection import train_test_split\n",
    "from sklearn.metrics import confusion_matrix, classification_report\n",
    "from collections import defaultdict\n",
    "from textwrap import wrap\n",
    "from math import e\n",
    "from torch import nn, optim\n",
    "from torch.utils.data import Dataset, DataLoader\n",
    "import torch.nn.functional as F\n",
    "from sklearn.metrics import f1_score\n",
    "from torch.nn import TransformerEncoder, TransformerEncoderLayer\n",
    "from collections import Counter\n",
    "import ast\n",
    "import random\n",
    "import json\n",
    "from math import isnan\n",
    "\n",
    "plt.rc('font', family='Times New Roman', size='20')\n",
    "\n",
    "# %config InlineBackend.figure_format='retina'\n",
    "\n",
    "\n",
    "rcParams['figure.figsize'] = 24, 16\n",
    "\n",
    "\n",
    "device = torch.device(\"cuda:0\" if torch.cuda.is_available() else \"cpu\")\n",
    "device\n",
    "\n",
    "token = '19e8eec1bcb4772464561a9dfa2e2dd0eec9c3e89557852b31592287'\n",
    "import tushare as ts"
   ]
  },
  {
   "cell_type": "code",
   "execution_count": null,
   "id": "4bd4dac1",
   "metadata": {
    "ExecuteTime": {
     "end_time": "2022-02-08T02:59:08.030602Z",
     "start_time": "2022-02-08T02:59:04.813931Z"
    }
   },
   "outputs": [],
   "source": [
    "ts.set_token(token)\n",
    "pro = ts.pro_api()\n",
    "\n",
    "csi300 = pro.index_daily(ts_code='399300.SZ')\n",
    "csi300 = csi300.loc[('20210101' < csi300.trade_date) & (csi300.trade_date < '20211201')]\n",
    "xin9 = pro.index_global(ts_code='XIN9', start_date='20210101', end_date='20211201')\n",
    "new_xin9 = pd.DataFrame()\n",
    "for index, row in csi300.iterrows():\n",
    "\n",
    "    if row.trade_date in xin9.trade_date.values:\n",
    "        new_xin9.loc[index, 'trade_date'] = row.trade_date\n",
    "        price = xin9.loc[xin9.trade_date == row.trade_date, 'close'].values[0]\n",
    "        new_xin9.loc[index, 'close'] = price\n",
    "    else:\n",
    "        new_xin9.loc[index, 'trade_date'] = row.trade_date\n",
    "        new_xin9.loc[index, 'close'] = price\n",
    "xin9 = new_xin9\n",
    "\n",
    "csi300 = csi300.sort_index(ascending=False)\n",
    "csi300 = csi300.reset_index(drop=True)\n",
    "csi300.trade_date = pd.to_datetime(csi300.trade_date)\n",
    "xin9 = xin9.sort_index(ascending=False)\n",
    "xin9 = xin9.reset_index(drop=True)\n",
    "xin9.trade_date = pd.to_datetime(xin9.trade_date)"
   ]
  },
  {
   "cell_type": "code",
   "execution_count": null,
   "id": "e371d946",
   "metadata": {
    "ExecuteTime": {
     "end_time": "2022-02-08T02:59:09.017022Z",
     "start_time": "2022-02-08T02:59:08.648166Z"
    }
   },
   "outputs": [],
   "source": [
    "\n",
    "df_test = pd.read_csv(\"d:/data/df_all_year_srl.csv\", sep='\\t')\n",
    "\n",
    "df_test = df_test.drop(\n",
    "    columns=['A0', 'A1', 'verbA0A1', 'verb_mask', 'A0_mask', 'A1_mask', 'AV_num'])\n",
    "df_test.SECOND_DAY = pd.to_datetime(df_test.SECOND_DAY)\n",
    "df_test.day1 = pd.to_datetime(df_test.day1)\n",
    "df_test.day2 = pd.to_datetime(df_test.day2)\n",
    "df_test.day3 = pd.to_datetime(df_test.day3)\n",
    "df_test.day4 = pd.to_datetime(df_test.day4)\n",
    "df_test.day5 = pd.to_datetime(df_test.day5)"
   ]
  },
  {
   "cell_type": "code",
   "execution_count": null,
   "id": "7ca05b69",
   "metadata": {
    "ExecuteTime": {
     "end_time": "2022-02-08T02:59:09.651928Z",
     "start_time": "2022-02-08T02:59:09.628394Z"
    }
   },
   "outputs": [],
   "source": [
    "df_test"
   ]
  },
  {
   "cell_type": "code",
   "execution_count": null,
   "id": "f12e0689",
   "metadata": {
    "ExecuteTime": {
     "end_time": "2022-02-08T02:59:10.256332Z",
     "start_time": "2022-02-08T02:59:10.253752Z"
    }
   },
   "outputs": [],
   "source": [
    "def string_to_tuples_list(text):\n",
    "  if text is np.nan or text =='[]':\n",
    "    return []\n",
    "  text = text.strip('[').strip(']')\n",
    "  tmp = text.split(' ')\n",
    "  while '' in tmp:\n",
    "    tmp.remove('')\n",
    "  tmp = [*map(float,tmp)]\n",
    "  return tmp\n",
    "\n",
    "def keep_by_threshold(probability,threshold = 0.3):\n",
    "    for prob in probability:\n",
    "        if prob>threshold:\n",
    "            return True\n",
    "    return False"
   ]
  },
  {
   "cell_type": "code",
   "execution_count": null,
   "id": "79bd5f77",
   "metadata": {
    "ExecuteTime": {
     "end_time": "2022-02-08T02:59:11.435900Z",
     "start_time": "2022-02-08T02:59:10.851188Z"
    }
   },
   "outputs": [],
   "source": [
    "files = ['Pretrained_RoBERT_ood.csv','Factor24_Pretrained_RoBert_SRL(FC)_V_ood.csv']\n",
    "\n",
    "prediction_list = []\n",
    "for file in files:\n",
    "    prediction = pd.read_csv(file, sep='\\t', index_col=None)\n",
    "    prediction = prediction.drop_duplicates()\n",
    "    prediction.probability = prediction.probability.apply(string_to_tuples_list)\n",
    "    prediction = prediction.loc[prediction.probability.apply(keep_by_threshold)]\n",
    "    prediction = prediction.reset_index(drop=True)\n",
    "    \n",
    "    prediction = df_test.merge(prediction, left_on='text_a', right_on='text').drop(columns=['Unnamed: 0'])\n",
    "    prediction = prediction.sort_values('DATE').reset_index(drop=True)\n",
    "    prediction.DATE = pd.to_datetime(prediction.DATE)\n",
    "    prediction_list.append(prediction)"
   ]
  },
  {
   "cell_type": "code",
   "execution_count": null,
   "id": "b7c8a059",
   "metadata": {},
   "outputs": [],
   "source": []
  },
  {
   "cell_type": "code",
   "execution_count": null,
   "id": "7a318e4f",
   "metadata": {
    "ExecuteTime": {
     "end_time": "2022-02-08T02:59:12.662263Z",
     "start_time": "2022-02-08T02:59:12.648649Z"
    }
   },
   "outputs": [],
   "source": [
    "def back_test(df, df_prediction, number):\n",
    "    deposit = 1\n",
    "    total_lending = 0\n",
    "    total_hold = 0\n",
    "    portfolio = pd.DataFrame()\n",
    "    commission_fee_rate = 0.0013\n",
    "    total = deposit\n",
    "    days = ['SECOND_DAY', 'day1', 'day2', 'day3', 'day4', 'day5']\n",
    "\n",
    "    price = ['original_price', 'close1', 'close2', 'close3', 'close4', 'close5']\n",
    "    total_list = []\n",
    "    long_weight = [0, 0, 0, 0, 0]\n",
    "    short_weight = [0, 0, 0, 0, 0]\n",
    "    stay_weight = [0, 0, 0, 0, 0]\n",
    "    name = 'prediction'\n",
    "    reverse = 0\n",
    "    reverse_bool = False\n",
    "    for date_idx, date in df.iterrows():\n",
    "        long_weight_i = [0]\n",
    "        short_weight_i = [0]\n",
    "    \n",
    "        df_tmp = df_prediction.loc[df_prediction.SECOND_DAY == date.trade_date]\n",
    "        df_tmp = df_tmp.reset_index(drop=True)\n",
    "        \n",
    "        df_tmp.loc[df_tmp[name]==0,name] = 3\n",
    "        df_tmp.loc[df_tmp[name]==2,name] = 0\n",
    "        df_tmp.loc[df_tmp[name]==3,name] = 2\n",
    "\n",
    "        for p_idx, p in portfolio.iterrows():\n",
    "            loss_stop_sign = False\n",
    "            for i in range(1, 4):\n",
    "                if p[days[i]] == date.trade_date:\n",
    "                    #                     print(p_idx,i)\n",
    "                    if p[name] == 0:\n",
    "                        total_lending = total_lending + p[price[i]] * p['share'] - p[price[i - 1]] * p['share']\n",
    "                        if p[price[i]] / p[price[0]] - 1 >= 0.05:\n",
    "                            short_weight_i.append(1 - p[price[i]] / p[price[0]])\n",
    "                            deposit = deposit - p.share * p[price[i]] * (1 + commission_fee_rate)\n",
    "                            total_lending = total_lending - p.share * p[price[i]]\n",
    "                            loss_stop_sign = True\n",
    "                            portfolio = portfolio.drop(p_idx)\n",
    "\n",
    "                    elif p[name] == 2:\n",
    "                        #                         print(p_idx,i)\n",
    "                        total_hold = total_hold + p[price[i]] * p['share'] - p[price[i - 1]] * p['share']\n",
    "                        if p[price[i]] / p[price[0]] - 1 <= -0.05:\n",
    "                            long_weight_i.append(p[price[i]] / p[price[0]] - 1)\n",
    "                            deposit = deposit + p.share * p[price[i]] * (1 - commission_fee_rate)\n",
    "                            total_hold = total_hold - p.share * p[price[i]]\n",
    "                            loss_stop_sign = True\n",
    "                            portfolio = portfolio.drop(p_idx)\n",
    "                    break\n",
    "\n",
    "            if p[days[number]] == date.trade_date and (not loss_stop_sign):\n",
    "                if p[name] == 0:\n",
    "                    short_weight_i.append(1 - p[price[i]] / p[price[0]])\n",
    "                    deposit = deposit - p.share * p[price[number]] * (1 + commission_fee_rate)\n",
    "                    total_lending = total_lending - p.share * p[price[number]]\n",
    "                elif p[name] == 2:\n",
    "                    deposit = deposit + p.share * p[price[number]] * (1 - commission_fee_rate)\n",
    "                    total_hold = total_hold - p.share * p[price[number]]\n",
    "                    long_weight_i.append(p[price[i]] / p[price[0]] - 1)\n",
    "                portfolio = portfolio.drop(p_idx)\n",
    "\n",
    "        long_weight.append(np.mean(long_weight_i))\n",
    "        short_weight.append(np.mean(short_weight_i))\n",
    "        if long_weight[len(long_weight) - 1] < 0 and short_weight[len(short_weight) - 1] < 0:\n",
    "            stay_weight.append(-long_weight[len(long_weight) - 1] / 2 - short_weight[len(short_weight) - 1] / 2)\n",
    "        else:\n",
    "            stay_weight.append(0)\n",
    "        \n",
    "        long_divider = 1\n",
    "        short_divider = 1\n",
    "        if len(df_tmp.loc[df_tmp[name] == 0]) != 0:\n",
    "            short_divider = 1 / len(df_tmp.loc[df_tmp[name] == 0])\n",
    "        if len(df_tmp.loc[df_tmp[name] == 2]) != 0:\n",
    "            long_divider = 1 / len(df_tmp.loc[df_tmp[name] == 2])\n",
    "        weight_st = pow(50, sum(stay_weight[-3:]))\n",
    "        weight_l = pow(50, sum(long_weight[-3:]))\n",
    "        weight_sh = pow(50, sum(short_weight[-3:]))\n",
    "        base = deposit - total_lending\n",
    "        \n",
    "        if len(total_list)>=3:\n",
    "            if total_list[-1]/total_list[-2]-1 <= -0.03:\n",
    "                reverse_bool = not reverse_bool\n",
    "                reverse = 3\n",
    "            if -0.002 < total_list[-1]/total_list[-2]-1 < 0.002 and -0.002 < total_list[-2]/total_list[-3]-1 < 0.002:\n",
    "                weight_st = weight_st*2\n",
    "        if reverse > 0 and reverse_bool:\n",
    "            reverse -= 1\n",
    "            if reverse ==0 :\n",
    "                reverse_bool = False\n",
    "\n",
    "            df_tmp[name]=1\n",
    "        for stock_idx, stock in df_tmp.iterrows():\n",
    "            l = stock.probability[2]\n",
    "            sh = stock.probability[0]\n",
    "            st = stock.probability[1]\n",
    "            \n",
    "            share_long = weight_l*l / (weight_l*l + weight_sh*sh + weight_st*st) * (base) / stock.original_price * long_divider\n",
    "            share_short = weight_sh*sh / (weight_l*l + weight_sh*sh + weight_st*st) * (base) / stock.original_price * short_divider\n",
    "            \n",
    "            if stock[name] == 0:\n",
    "                deposit = deposit + share_short * stock.original_price\n",
    "                total_lending += share_short * stock.original_price\n",
    "                stock['share'] = share_short\n",
    "            elif stock[name] == 2 and deposit > 0.45:\n",
    "                deposit = deposit - share_long * stock.original_price\n",
    "                total_hold = total_hold + share_long * stock.original_price\n",
    "                stock['share'] = share_long\n",
    "            else:\n",
    "                continue\n",
    "\n",
    "            portfolio = portfolio.append(stock)\n",
    "        portfolio = portfolio.reset_index(drop=True)\n",
    "        \n",
    "        total = total_hold + deposit - total_lending\n",
    "        total_list.append(total)\n",
    "    return total_list"
   ]
  },
  {
   "cell_type": "code",
   "execution_count": null,
   "id": "14163f88",
   "metadata": {},
   "outputs": [],
   "source": []
  },
  {
   "cell_type": "code",
   "execution_count": null,
   "id": "776d4c15",
   "metadata": {
    "ExecuteTime": {
     "end_time": "2022-02-08T03:02:48.082758Z",
     "start_time": "2022-02-08T02:59:13.268402Z"
    }
   },
   "outputs": [],
   "source": [
    "day = 1\n",
    "\n",
    "x = csi300.trade_date.values\n",
    "xin = (xin9.close / xin9.close[0]).values\n",
    "csi = (csi300.close / csi300.close.loc[0]).values\n",
    "\n",
    "prediction_results = [xin, csi]\n",
    "for prediction in prediction_list:\n",
    "    prediction_results.append(back_test(csi300, prediction, day))\n",
    "\n",
    "files_name = ['XIN9', 'CSI300'] + files\n",
    "for index, result in enumerate(prediction_results):\n",
    "    plt.plot(x, result, label=files_name[index])\n",
    "plt.grid(color='grey', linestyle='--')\n",
    "plt.legend()\n",
    "plt.show()"
   ]
  },
  {
   "cell_type": "code",
   "execution_count": null,
   "id": "af6b2e71",
   "metadata": {
    "ExecuteTime": {
     "end_time": "2022-02-08T03:06:28.292812Z",
     "start_time": "2022-02-08T03:02:48.664223Z"
    }
   },
   "outputs": [],
   "source": [
    "day = 2\n",
    "\n",
    "x = csi300.trade_date.values\n",
    "xin = (xin9.close / xin9.close[0]).values\n",
    "csi = (csi300.close / csi300.close.loc[0]).values\n",
    "\n",
    "prediction_results = [xin, csi]\n",
    "for prediction in prediction_list:\n",
    "    prediction_results.append(back_test(csi300, prediction, day))\n",
    "\n",
    "files_name = ['XIN9', 'CSI300'] + files\n",
    "for index, result in enumerate(prediction_results):\n",
    "    plt.plot(x, result, label=files_name[index])\n",
    "plt.grid(color='grey', linestyle='--')\n",
    "plt.legend()\n",
    "plt.show()"
   ]
  },
  {
   "cell_type": "code",
   "execution_count": null,
   "id": "f128f548",
   "metadata": {},
   "outputs": [],
   "source": []
  },
  {
   "cell_type": "code",
   "execution_count": null,
   "id": "b3ec9e74",
   "metadata": {
    "ExecuteTime": {
     "end_time": "2022-02-08T03:47:25.638866Z",
     "start_time": "2022-02-08T03:47:25.636735Z"
    }
   },
   "outputs": [],
   "source": [
    "result= [x]"
   ]
  },
  {
   "cell_type": "code",
   "execution_count": null,
   "id": "db686d65",
   "metadata": {
    "ExecuteTime": {
     "end_time": "2022-02-08T03:47:26.258244Z",
     "start_time": "2022-02-08T03:47:26.256143Z"
    }
   },
   "outputs": [],
   "source": [
    "result.extend(prediction_results)"
   ]
  },
  {
   "cell_type": "code",
   "execution_count": null,
   "id": "353707ec",
   "metadata": {
    "ExecuteTime": {
     "end_time": "2022-02-08T04:09:35.523763Z",
     "start_time": "2022-02-08T04:09:35.513045Z"
    }
   },
   "outputs": [],
   "source": [
    "result_df = pd.DataFrame(result).T"
   ]
  },
  {
   "cell_type": "code",
   "execution_count": null,
   "id": "de5104f3",
   "metadata": {
    "ExecuteTime": {
     "end_time": "2022-02-08T04:08:43.189463Z",
     "start_time": "2022-02-08T04:08:43.186597Z"
    }
   },
   "outputs": [],
   "source": [
    "result_df.columns = {'date','XIN9', 'CSI300', 'StockNet','HAN','Roberta-wwm-EXT', 'SRLP+SRL+Factor'}"
   ]
  },
  {
   "cell_type": "code",
   "execution_count": null,
   "id": "bcc3c52f",
   "metadata": {
    "ExecuteTime": {
     "end_time": "2022-02-08T04:08:47.186849Z",
     "start_time": "2022-02-08T04:08:47.179581Z"
    }
   },
   "outputs": [],
   "source": [
    "result_df.to_csv('data_for_Dr_lin.csv')"
   ]
  },
  {
   "cell_type": "code",
   "execution_count": null,
   "id": "07a3f808",
   "metadata": {
    "ExecuteTime": {
     "end_time": "2022-02-08T04:08:48.205831Z",
     "start_time": "2022-02-08T04:08:48.203574Z"
    }
   },
   "outputs": [],
   "source": [
    "files_name = ['XIN9', 'CSI300'] + files"
   ]
  },
  {
   "cell_type": "markdown",
   "id": "3e3de36d",
   "metadata": {},
   "source": [
    "## annualized rate of return"
   ]
  },
  {
   "cell_type": "code",
   "execution_count": null,
   "id": "eaff1bd7",
   "metadata": {
    "ExecuteTime": {
     "end_time": "2022-02-08T03:48:01.047184Z",
     "start_time": "2022-02-08T03:48:00.916430Z"
    }
   },
   "outputs": [],
   "source": [
    "def anual_rate(total):\n",
    "    return pow(total,(250/len(x)))-1\n",
    "\n",
    "y_b = []\n",
    "for prediction in prediction_results:\n",
    "    y_b.append(prediction[-1])\n",
    "print('Total return: ',np.array(y_b)-1)\n",
    "y_b = [*map(anual_rate,y_b)]\n",
    "print('Anual return: ',y_b)\n",
    "plt.bar(files_name,y_b)\n",
    "plt.axhline(y_b[0], color=\"black\", linestyle=\"--\")\n",
    "plt.xticks(rotation=45)\n",
    "plt.ylabel(\"Annualized Rate of Return\")\n",
    "for a,b in zip(range(len(files_name)),y_b):\n",
    "    plt.text(a+0.05,b+0.05,'%.2f' %b, ha='center',va='bottom')"
   ]
  },
  {
   "cell_type": "markdown",
   "id": "8643b74f",
   "metadata": {},
   "source": [
    "## 回撤"
   ]
  },
  {
   "cell_type": "code",
   "execution_count": null,
   "id": "91031a23",
   "metadata": {
    "ExecuteTime": {
     "end_time": "2022-02-08T04:09:06.008106Z",
     "start_time": "2022-02-08T04:09:05.714764Z"
    },
    "scrolled": true
   },
   "outputs": [],
   "source": [
    "def drawdown(y,period):\n",
    "    drawdown = 0\n",
    "    drawdown_list = []\n",
    "    max_drawdown = 0\n",
    "    \n",
    "    for i in range(period):\n",
    "        price_tmp = y[0:i+1]\n",
    "        max_price = np.max(price_tmp)\n",
    "        max_index = np.argmax(price_tmp)\n",
    "        min_price = np.min(price_tmp[max_index:i+1])\n",
    "        if min_price/max_price-1 < drawdown:\n",
    "            drawdown = min_price/max_price -1\n",
    "            if drawdown< max_drawdown:\n",
    "                max_drawdown = drawdown\n",
    "        drawdown_list.append(drawdown)\n",
    "        \n",
    "    for i in range(len(y)-period):\n",
    "        drawdown = 0\n",
    "        price = y[i:i+period]\n",
    "        for i in range(period):\n",
    "            price_tmp = price[0:i+1]\n",
    "            max_price = np.max(price_tmp)\n",
    "            max_index = np.argmax(price_tmp)\n",
    "            min_price = np.min(price_tmp[max_index:i+1])\n",
    "            if min_price/max_price-1 < drawdown:\n",
    "                drawdown = min_price/max_price -1\n",
    "                if drawdown< max_drawdown:\n",
    "                    max_drawdown = drawdown\n",
    "        drawdown_list.append(drawdown)\n",
    "        \n",
    "    return max_drawdown, drawdown_list\n",
    "\n",
    "period =  20\n",
    "\n",
    "drawdown_list = []\n",
    "for index,name in enumerate(files_name):\n",
    "    dd = drawdown(prediction_results[index],period)\n",
    "    print(name,dd[0])\n",
    "    drawdown_list.append(dd[1])"
   ]
  },
  {
   "cell_type": "code",
   "execution_count": null,
   "id": "17367dd8",
   "metadata": {
    "ExecuteTime": {
     "end_time": "2022-02-08T04:10:22.731281Z",
     "start_time": "2022-02-08T04:10:22.720105Z"
    }
   },
   "outputs": [],
   "source": [
    "x\n",
    "a = [x]\n",
    "a.extend(drawdown_list)\n",
    "drawback_df = pd.DataFrame(a).T"
   ]
  },
  {
   "cell_type": "code",
   "execution_count": null,
   "id": "b658f107",
   "metadata": {
    "ExecuteTime": {
     "end_time": "2022-02-08T04:10:27.645541Z",
     "start_time": "2022-02-08T04:10:27.634198Z"
    }
   },
   "outputs": [],
   "source": []
  },
  {
   "cell_type": "code",
   "execution_count": null,
   "id": "268931a1",
   "metadata": {
    "ExecuteTime": {
     "end_time": "2022-02-08T04:06:27.112286Z",
     "start_time": "2022-02-08T04:06:27.096077Z"
    }
   },
   "outputs": [],
   "source": [
    "\n",
    "drawback_df.columns = {'date','XIN9', 'CSI300','Roberta-wwm-EXT', 'SRLP+SRL+Factor'}\n",
    "drawback_df.to_csv('drawback_for_Dr_lin.csv')"
   ]
  },
  {
   "cell_type": "code",
   "execution_count": null,
   "id": "a202e07e",
   "metadata": {
    "ExecuteTime": {
     "end_time": "2022-02-08T04:06:27.829574Z",
     "start_time": "2022-02-08T04:06:27.818776Z"
    }
   },
   "outputs": [],
   "source": []
  },
  {
   "cell_type": "code",
   "execution_count": null,
   "id": "39812e62",
   "metadata": {
    "ExecuteTime": {
     "end_time": "2022-02-04T12:23:56.351414Z",
     "start_time": "2022-02-04T12:23:56.348843Z"
    }
   },
   "outputs": [],
   "source": [
    "drawdown_list.extend(prediction_results)"
   ]
  },
  {
   "cell_type": "code",
   "execution_count": null,
   "id": "c560374a",
   "metadata": {
    "ExecuteTime": {
     "end_time": "2022-02-04T12:24:10.022148Z",
     "start_time": "2022-02-04T12:24:09.866290Z"
    },
    "scrolled": false
   },
   "outputs": [],
   "source": [
    "for index, result in enumerate(drawdown_list):\n",
    "    plt.plot(x, result)\n",
    "plt.grid(color='grey', linestyle='--')\n",
    "plt.legend()\n",
    "plt.ylim((-2, 2))\n",
    "plt.show()"
   ]
  },
  {
   "cell_type": "code",
   "execution_count": null,
   "id": "b2fbf09e",
   "metadata": {
    "ExecuteTime": {
     "end_time": "2022-02-04T06:17:12.007754Z",
     "start_time": "2022-02-04T06:17:12.004347Z"
    }
   },
   "outputs": [],
   "source": []
  },
  {
   "cell_type": "markdown",
   "id": "a8b959c9",
   "metadata": {},
   "source": [
    "## Sharp Ratio"
   ]
  },
  {
   "cell_type": "code",
   "execution_count": null,
   "id": "4b4f9edd",
   "metadata": {
    "ExecuteTime": {
     "end_time": "2022-02-04T08:35:16.421451Z",
     "start_time": "2022-02-04T08:35:16.414873Z"
    }
   },
   "outputs": [],
   "source": [
    "def sharp_ratio(y,period,risk_free):\n",
    "    sharp_ratio_list = []\n",
    "    risk_free_period = pow(1+risk_free,period/250)-1\n",
    "    for i in range(period,len(y),period):\n",
    "        sharp_ratio_list.append(y[i]-y[i-period])\n",
    "    return(np.mean(np.array(sharp_ratio_list)-risk_free_period)/np.std(sharp_ratio_list))\n",
    "\n",
    "period = 20\n",
    "risk_free_ratio = 0.03\n",
    "for index,name in enumerate(files_name):\n",
    "    print(name,sharp_ratio(prediction_results[index],period,risk_free_ratio))\n"
   ]
  },
  {
   "cell_type": "code",
   "execution_count": null,
   "id": "cc2a75f8",
   "metadata": {},
   "outputs": [],
   "source": []
  },
  {
   "cell_type": "code",
   "execution_count": null,
   "id": "b45bfd8f",
   "metadata": {},
   "outputs": [],
   "source": []
  },
  {
   "cell_type": "code",
   "execution_count": null,
   "id": "d76aba19",
   "metadata": {},
   "outputs": [],
   "source": []
  }
 ],
 "metadata": {
  "kernelspec": {
   "display_name": "torch",
   "language": "python",
   "name": "python3"
  },
  "language_info": {
   "codemirror_mode": {
    "name": "ipython",
    "version": 3
   },
   "file_extension": ".py",
   "mimetype": "text/x-python",
   "name": "python",
   "nbconvert_exporter": "python",
   "pygments_lexer": "ipython3",
   "version": "3.9.15"
  },
  "latex_envs": {
   "LaTeX_envs_menu_present": true,
   "autoclose": false,
   "autocomplete": true,
   "bibliofile": "biblio.bib",
   "cite_by": "apalike",
   "current_citInitial": 1,
   "eqLabelWithNumbers": true,
   "eqNumInitial": 1,
   "hotkeys": {
    "equation": "Ctrl-E",
    "itemize": "Ctrl-I"
   },
   "labels_anchors": false,
   "latex_user_defs": false,
   "report_style_numbering": false,
   "user_envs_cfg": false
  },
  "toc": {
   "base_numbering": 1,
   "nav_menu": {},
   "number_sections": true,
   "sideBar": true,
   "skip_h1_title": false,
   "title_cell": "Table of Contents",
   "title_sidebar": "Contents",
   "toc_cell": false,
   "toc_position": {},
   "toc_section_display": true,
   "toc_window_display": false
  },
  "varInspector": {
   "cols": {
    "lenName": 16,
    "lenType": 16,
    "lenVar": 40
   },
   "kernels_config": {
    "python": {
     "delete_cmd_postfix": "",
     "delete_cmd_prefix": "del ",
     "library": "var_list.py",
     "varRefreshCmd": "print(var_dic_list())"
    },
    "r": {
     "delete_cmd_postfix": ") ",
     "delete_cmd_prefix": "rm(",
     "library": "var_list.r",
     "varRefreshCmd": "cat(var_dic_list()) "
    }
   },
   "types_to_exclude": [
    "module",
    "function",
    "builtin_function_or_method",
    "instance",
    "_Feature"
   ],
   "window_display": false
  },
  "vscode": {
   "interpreter": {
    "hash": "e5e0f14df34ce411df7823f66bf6ac80b4684b7a39d44f4bdf2b22f0d1295c2a"
   }
  }
 },
 "nbformat": 4,
 "nbformat_minor": 5
}
